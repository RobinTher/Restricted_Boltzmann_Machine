{
 "cells": [
  {
   "cell_type": "code",
   "execution_count": null,
   "metadata": {},
   "outputs": [],
   "source": [
    "import numpy as np\n",
    "\n",
    "import Saddle_point_iteration_c_0\n",
    "import Simulations_c_0\n",
    "import Simulations_c_0_mismatched_P\n",
    "import Lottery_ticket_run\n",
    "import Phase_diagrams\n",
    "import Phase_diagrams_fixed_T_s\n",
    "import Saddle_point_iteration_c_not_0\n",
    "import Simulations_c_not_0_mismatched_P"
   ]
  },
  {
   "cell_type": "markdown",
   "metadata": {},
   "source": [
    "### Figures 1 and 2: PSB and partial PSB magnetization and overlap of the teacher-student setting with binary patterns when $c = 0$ and $\\tilde{P} \\neq P$."
   ]
  },
  {
   "cell_type": "markdown",
   "metadata": {},
   "source": [
    "User defined parameters"
   ]
  },
  {
   "cell_type": "code",
   "execution_count": null,
   "metadata": {},
   "outputs": [],
   "source": [
    "beta_s = 1.2\n",
    "beta = 1.2\n",
    "\n",
    "n_alpha = 20\n",
    "alpha_range = np.linspace(0.1, 2, num = n_alpha, endpoint = True)\n",
    "\n",
    "P_range = np.array([2, 3])\n",
    "\n",
    "m_0 = 0.2\n",
    "epsilon = 0\n",
    "\n",
    "# Number of iterations and time step.\n",
    "t = 100\n",
    "t_step = 1/2\n",
    "t_simple = 50\n",
    "\n",
    "seed = 4"
   ]
  },
  {
   "cell_type": "markdown",
   "metadata": {},
   "source": [
    "Run saddle-point equations for $c = 0$ and $\\tilde{P} \\neq P$ to resolve the overlap and magnetization"
   ]
  },
  {
   "cell_type": "code",
   "execution_count": null,
   "metadata": {},
   "outputs": [],
   "source": [
    "for P in P_range:\n",
    "    Saddle_point_iteration_c_0.saddle_point_run(beta, alpha_range, P, m_0, epsilon, t, t_step, t_simple, seed)"
   ]
  },
  {
   "cell_type": "markdown",
   "metadata": {},
   "source": [
    "Plotting"
   ]
  },
  {
   "cell_type": "code",
   "execution_count": null,
   "metadata": {},
   "outputs": [],
   "source": [
    "for name in [\"PSB\", \"partial_PSB\"]:\n",
    "    Saddle_point_iteration_c_0.plot_overlap(beta, alpha_range, P_range, name)"
   ]
  },
  {
   "cell_type": "markdown",
   "metadata": {},
   "source": [
    "### Figures 15 and 16: PSB and partial PSB magnetization and overlap of the teacher-student setting with Gaussian patterns when $c = 0$ and $\\tilde{P} \\neq P$."
   ]
  },
  {
   "cell_type": "markdown",
   "metadata": {},
   "source": [
    "User defined parameters"
   ]
  },
  {
   "cell_type": "code",
   "execution_count": null,
   "metadata": {},
   "outputs": [],
   "source": [
    "beta = 1.2\n",
    "\n",
    "n_alpha = 20\n",
    "alpha_range = np.linspace(0.1, 2, num = n_alpha, endpoint = True)\n",
    "\n",
    "P_range = np.array([2, 3])\n",
    "\n",
    "m_0 = 0.2\n",
    "epsilon = 0\n",
    "\n",
    "# Number of iterations and time step.\n",
    "t = 1000\n",
    "t_step = 0.1\n",
    "t_simple = 50\n",
    "\n",
    "seed = 4"
   ]
  },
  {
   "cell_type": "markdown",
   "metadata": {},
   "source": [
    "Run saddle-point equations for $c = 0$ and $\\tilde{P} \\neq P$ to resolve the overlap and magnetization"
   ]
  },
  {
   "cell_type": "code",
   "execution_count": null,
   "metadata": {},
   "outputs": [],
   "source": [
    "for P in P_range:\n",
    "    Saddle_point_iteration_c_0.normal_saddle_point_run(beta, alpha_range, P, m_0, epsilon, t, t_step, t_simple, seed)"
   ]
  },
  {
   "cell_type": "markdown",
   "metadata": {},
   "source": [
    "Plotting"
   ]
  },
  {
   "cell_type": "code",
   "execution_count": null,
   "metadata": {},
   "outputs": [],
   "source": [
    "for name in [\"PSB_normal\", \"partial_PSB_normal\"]:\n",
    "    Saddle_point_iteration_c_0.plot_overlap(beta, alpha_range, P_range, name)"
   ]
  },
  {
   "cell_type": "markdown",
   "metadata": {},
   "source": [
    "### Figure 3: PSB magnetization of the teacher-student setting with binary patterns when $c = 0$ and $\\tilde{P} = P$ compared against simulations."
   ]
  },
  {
   "cell_type": "markdown",
   "metadata": {},
   "source": [
    "User defined parameters"
   ]
  },
  {
   "cell_type": "code",
   "execution_count": null,
   "metadata": {},
   "outputs": [],
   "source": [
    "beta = 1.2\n",
    "\n",
    "n_alpha = 20\n",
    "alpha_range = np.linspace(0.1, 2, num = n_alpha, endpoint = True) # np.array([1.])\n",
    "\n",
    "N = 512\n",
    "P = 2\n",
    "m_0 = 0.2\n",
    "\n",
    "# It is very fast to sample from the teacher.\n",
    "number_teacher_sampling_steps = 100\n",
    "number_monitored_sampling_steps = 0\n",
    "\n",
    "number_student_training_epochs = 36*12000\n",
    "number_monitored_training_epochs = 5\n",
    "number_burn_in_epochs = 108000\n",
    "number_magnetization_samples = 500\n",
    "\n",
    "random_number_seed = 2\n",
    "\n",
    "random_batch_seed = 87\n",
    "\n",
    "field_magnitude = 0.04"
   ]
  },
  {
   "cell_type": "markdown",
   "metadata": {},
   "source": [
    "Monte Carlo simulation of the magnetization for $c = 0$ and $\\tilde{P} = P$"
   ]
  },
  {
   "cell_type": "code",
   "execution_count": null,
   "metadata": {},
   "outputs": [],
   "source": [
    "Simulations_c_0.simulation_run(beta, alpha_range, N, P, m_0, number_teacher_sampling_steps,\n",
    "                    number_monitored_sampling_steps, number_student_training_epochs,\n",
    "                    number_monitored_training_epochs, number_burn_in_epochs,\n",
    "                    number_magnetization_samples, random_number_seed,\n",
    "                    random_batch_seed, field_magnitude)"
   ]
  },
  {
   "cell_type": "markdown",
   "metadata": {},
   "source": [
    "Plotting\n",
    "\n",
    "Assumes that the magnetization and the overlap are already calculated using Saddle_point_iteration_c_0.saddle_point_run"
   ]
  },
  {
   "cell_type": "code",
   "execution_count": null,
   "metadata": {},
   "outputs": [],
   "source": [
    "Simulations_c_0.plot_simulated_overlap(beta, alpha_range, P)"
   ]
  },
  {
   "cell_type": "markdown",
   "metadata": {},
   "source": [
    "### Figure 4: PSB and partial PSB magnetization of the teacher-student patterns with binary patterns when $c = 0$ and $\\tilde{P} \\neq P$ compared against simulations."
   ]
  },
  {
   "cell_type": "markdown",
   "metadata": {},
   "source": [
    "User defined parameters of the saddle-point iteration"
   ]
  },
  {
   "cell_type": "code",
   "execution_count": null,
   "metadata": {},
   "outputs": [],
   "source": [
    "beta_range = 2.8\n",
    "\n",
    "n_alpha = 20\n",
    "alpha_range = np.linspace(0.1, 1, num = n_alpha, endpoint = True)\n",
    "\n",
    "P_saddle = 2\n",
    "\n",
    "m_0 = 0.2\n",
    "epsilon = 0\n",
    "\n",
    "# Number of iterations and time step.\n",
    "t = 1000\n",
    "t_step = 0.1\n",
    "t_simple = 50\n",
    "\n",
    "seed = 4"
   ]
  },
  {
   "cell_type": "markdown",
   "metadata": {},
   "source": [
    "Run saddle-point equations of the teacher student-setting with binary patterns for $c = 0$ and $\\tilde{P} \\neq P$ to resolve the magnetization"
   ]
  },
  {
   "cell_type": "code",
   "execution_count": null,
   "metadata": {},
   "outputs": [],
   "source": [
    "Saddle_point_iteration_c_0.saddle_point_run(beta, alpha_range, P_saddle, m_0, epsilon, t, t_step, t_simple, seed)"
   ]
  },
  {
   "cell_type": "markdown",
   "metadata": {},
   "source": [
    "User defined parameters of the simulation and plotting"
   ]
  },
  {
   "cell_type": "code",
   "execution_count": null,
   "metadata": {},
   "outputs": [],
   "source": [
    "beta_range = np.array([1.2, 2.8])\n",
    "\n",
    "n_alpha = 20\n",
    "alpha_range = np.array([np.linspace(0.1, 2, num = n_alpha, endpoint = True), np.linspace(0.1, 1, num = n_alpha, endpoint = True)])\n",
    "\n",
    "N = 512\n",
    "\n",
    "P_sim = 1\n",
    "P = P_sim\n",
    "P_t = P_sim + 1\n",
    "P_saddle = P_t\n",
    "\n",
    "m_0 = 0.2\n",
    "\n",
    "# It is very fast to sample from the teacher.\n",
    "number_teacher_sampling_steps = 100\n",
    "number_monitored_sampling_steps = 10\n",
    "\n",
    "number_student_training_epochs = 36*12000\n",
    "number_monitored_training_epochs = 20\n",
    "number_burn_in_epochs = 108000\n",
    "number_magnetization_samples = 1000\n",
    "\n",
    "random_number_seed = 37\n",
    "\n",
    "random_batch_seed = 87\n",
    "\n",
    "field_magnitude_range = np.array([0.04, 0.])"
   ]
  },
  {
   "cell_type": "markdown",
   "metadata": {},
   "source": [
    "Monte Carlo simulation of the magnetization for $c = 0$ and $\\tilde{P} \\neq P$"
   ]
  },
  {
   "cell_type": "code",
   "execution_count": null,
   "metadata": {},
   "outputs": [],
   "source": [
    "for beta, alpha_subrange, field_magnitude in zip(beta_range, alpha_range, field_magnitude_range):\n",
    "    Simulations_c_0_mismatched_P.simulation_run_mismatched_P(beta, alpha_range, N, P, P_t, m_0, number_teacher_sampling_steps,\n",
    "                                number_monitored_sampling_steps, number_student_training_epochs,\n",
    "                                number_monitored_training_epochs, number_burn_in_epochs,\n",
    "                                number_magnetization_samples, random_number_seed,\n",
    "                                random_batch_seed)"
   ]
  },
  {
   "cell_type": "markdown",
   "metadata": {},
   "source": [
    "Plotting"
   ]
  },
  {
   "cell_type": "code",
   "execution_count": null,
   "metadata": {},
   "outputs": [],
   "source": [
    "Simulations_c_0_mismatched_P.plot_simulated_overlap_mismatched_P(beta_range, alpha_range, P_sim, P_saddle)"
   ]
  },
  {
   "cell_type": "markdown",
   "metadata": {},
   "source": [
    "### Figure 5: PSB and partial PSB magnetization of the teacher-student patterns with Gaussian patterns when $c = 0$ and $\\tilde{P} \\neq P$ compared against simulations."
   ]
  },
  {
   "cell_type": "markdown",
   "metadata": {},
   "source": [
    "User defined parameters of the saddle-point iteration"
   ]
  },
  {
   "cell_type": "code",
   "execution_count": null,
   "metadata": {},
   "outputs": [],
   "source": [
    "beta = 4\n",
    "\n",
    "n_alpha = 20\n",
    "alpha_range = np.linspace(0.1, 1, num = n_alpha, endpoint = True)\n",
    "\n",
    "P = 2\n",
    "\n",
    "m_0 = 0.2\n",
    "epsilon = 0\n",
    "\n",
    "# Number of iterations and time step.\n",
    "t = 10000\n",
    "t_step = 0.05\n",
    "t_simple = 50\n",
    "\n",
    "seed = 4"
   ]
  },
  {
   "cell_type": "markdown",
   "metadata": {},
   "source": [
    "Run saddle-point equations of the teacher student-setting with Gaussian patterns for $c = 0$ and $\\tilde{P} \\neq P$ to resolve the magnetization"
   ]
  },
  {
   "cell_type": "code",
   "execution_count": null,
   "metadata": {},
   "outputs": [],
   "source": [
    "Saddle_point_iteration_c_0.normal_saddle_point_run(beta, alpha_range, P_saddle, m_0, epsilon, t, t_step, t_simple, seed)"
   ]
  },
  {
   "cell_type": "markdown",
   "metadata": {},
   "source": [
    "User defined parameters of the simulation and plotting"
   ]
  },
  {
   "cell_type": "code",
   "execution_count": null,
   "metadata": {},
   "outputs": [],
   "source": [
    "beta = 4\n",
    "\n",
    "n_alpha = 20\n",
    "alpha_range = np.linspace(0.1, 1, num = n_alpha, endpoint = True)\n",
    "\n",
    "N = 512\n",
    "\n",
    "P_sim = 1\n",
    "P = P_sim\n",
    "P_t = P_sim + 1\n",
    "P_saddle = P_t\n",
    "\n",
    "m_0 = 0.2\n",
    "\n",
    "# It is very fast to sample from the teacher.\n",
    "number_teacher_sampling_steps = 100\n",
    "number_monitored_sampling_steps = 0\n",
    "\n",
    "# The learning rate of student B decays more quickly than that of student A.\n",
    "number_student_sampling_steps = 1\n",
    "initial_learning_rate_A = 0.01\n",
    "initial_learning_rate_B = 0.012\n",
    "learning_rate_decay_A = 0.00005\n",
    "learning_rate_decay_B = 0.005\n",
    "momentum = 0.8\n",
    "number_student_training_epochs = 8*7200\n",
    "number_monitored_training_epochs = 5\n",
    "\n",
    "number_burn_in_epochs = 6*7200\n",
    "number_magnetization_samples = 100\n",
    "\n",
    "random_number_seed = 2\n",
    "\n",
    "random_batch_seed = 87"
   ]
  },
  {
   "cell_type": "markdown",
   "metadata": {},
   "source": [
    "Monte Carlo simulation of the magnetization for $c = 0$ and $\\tilde{P} \\neq P$"
   ]
  },
  {
   "cell_type": "code",
   "execution_count": null,
   "metadata": {},
   "outputs": [],
   "source": [
    "Simulations_c_0_mismatched_P.simulation_run_normal_mismatched_P(beta, alpha_range, N, P, P_t, m_0, number_teacher_sampling_steps,\n",
    "                                       number_monitored_sampling_steps, number_student_sampling_steps,\n",
    "                                       initial_learning_rate_A, initial_learning_rate_B,\n",
    "                                       learning_rate_decay_A, learning_rate_decay_B,\n",
    "                                       momentum, number_student_training_epochs, number_monitored_training_epochs,\n",
    "                                       number_burn_in_epochs, number_magnetization_samples,\n",
    "                                       random_number_seed, random_batch_seed)"
   ]
  },
  {
   "cell_type": "markdown",
   "metadata": {},
   "source": [
    "Plotting"
   ]
  },
  {
   "cell_type": "code",
   "execution_count": null,
   "metadata": {},
   "outputs": [],
   "source": [
    "Simulations_c_0_mismatched_P.plot_simulated_normal_overlap_mismatched_P(beta, alpha_range, P_sim, P_saddle)"
   ]
  },
  {
   "cell_type": "markdown",
   "metadata": {},
   "source": [
    "### Figure 6: Lottery ticket experiment with $c = 0$"
   ]
  },
  {
   "cell_type": "markdown",
   "metadata": {},
   "source": [
    "User defined parameters of the saddle-point iteration"
   ]
  },
  {
   "cell_type": "code",
   "execution_count": null,
   "metadata": {},
   "outputs": [],
   "source": [
    "beta = 4\n",
    "\n",
    "n_alpha = 20\n",
    "alpha_range = np.linspace(0.1, 1, num = n_alpha, endpoint = True)\n",
    "\n",
    "P = 2\n",
    "\n",
    "m_0 = 0.2\n",
    "epsilon = 0\n",
    "\n",
    "# Number of iterations and time step.\n",
    "t = 10000\n",
    "t_step = 0.05\n",
    "t_simple = 50\n",
    "\n",
    "seed = 4"
   ]
  },
  {
   "cell_type": "markdown",
   "metadata": {},
   "source": [
    "Run saddle-point equations of the teacher student-setting with Gaussian patterns for $c = 0$ to resolve the magnetization\n",
    "\n",
    "Can be skipped if already calculated and saved using Saddle_point_iteration_c_0.normal_saddle_point_run in the section of the code pertaining to Figure 5"
   ]
  },
  {
   "cell_type": "code",
   "execution_count": null,
   "metadata": {},
   "outputs": [],
   "source": [
    "Saddle_point_iteration_c_0.normal_saddle_point_run(beta, alpha_range, P_saddle, m_0, epsilon, t, t_step, t_simple, seed)"
   ]
  },
  {
   "cell_type": "markdown",
   "metadata": {},
   "source": [
    "User defined parameters common to the two next simulations"
   ]
  },
  {
   "cell_type": "code",
   "execution_count": null,
   "metadata": {},
   "outputs": [],
   "source": [
    "beta = 4\n",
    "\n",
    "n_alpha = 20\n",
    "alpha_range = np.linspace(0.1, 1, num = n_alpha, endpoint = True)\n",
    "\n",
    "N = 512\n",
    "\n",
    "P_sim = 4\n",
    "P = P_sim\n",
    "P_t = 8\n",
    "P_saddle = 2\n",
    "\n",
    "c = None"
   ]
  },
  {
   "cell_type": "markdown",
   "metadata": {},
   "source": [
    "User defined parameters of the simulation for finding the magnetization"
   ]
  },
  {
   "cell_type": "code",
   "execution_count": null,
   "metadata": {},
   "outputs": [],
   "source": [
    "# It is very fast to sample from the teacher.\n",
    "number_teacher_sampling_steps = 100\n",
    "number_monitored_sampling_steps = 0\n",
    "\n",
    "# Student 0 is trained for a different number of epochs than student A and student B.\n",
    "# The other parameters are shared between 0, A and B.\n",
    "number_student_sampling_steps = 1\n",
    "initial_learning_rate = 0.01\n",
    "learning_rate_decay = 0.00005\n",
    "momentum = 0.8\n",
    "number_student_training_epochs = 8*8000\n",
    "number_student_0_training_epochs = 4*8000\n",
    "number_monitored_training_epochs = 5\n",
    "\n",
    "number_burn_in_epochs = 8*8000-500\n",
    "number_magnetization_samples = 100\n",
    "\n",
    "random_number_seed = 2\n",
    "\n",
    "random_batch_seed = 87"
   ]
  },
  {
   "cell_type": "markdown",
   "metadata": {},
   "source": [
    "Monte Carlo simulation for finding the magnetization"
   ]
  },
  {
   "cell_type": "code",
   "execution_count": null,
   "metadata": {},
   "outputs": [],
   "source": [
    "Lottery_ticket_run.simulation_run_winning_ticket_magnetization(beta, alpha_range, c, N, P, P_t, number_teacher_sampling_steps,\n",
    "                                       number_monitored_sampling_steps, number_student_sampling_steps,\n",
    "                                       initial_learning_rate, learning_rate_decay, momentum,\n",
    "                                       number_student_0_training_epochs, number_student_training_epochs,\n",
    "                                       number_monitored_training_epochs, number_burn_in_epochs, number_magnetization_samples,\n",
    "                                       random_number_seed, random_batch_seed)"
   ]
  },
  {
   "cell_type": "markdown",
   "metadata": {},
   "source": [
    "User defined parameters of the simulation for finding the lead of student B over student A"
   ]
  },
  {
   "cell_type": "code",
   "execution_count": null,
   "metadata": {},
   "outputs": [],
   "source": [
    "# It is very fast to sample from the teacher.\n",
    "number_teacher_sampling_steps = 100\n",
    "number_monitored_sampling_steps = 0\n",
    "\n",
    "# Student 0 is trained for a different number of epochs than student A and student B.\n",
    "# The other parameters are shared between 0, A and B.\n",
    "number_student_sampling_steps = 1\n",
    "initial_learning_rate = 0.01\n",
    "learning_rate_decay = 0.0005\n",
    "momentum = 0.8\n",
    "number_student_training_epochs = 1000\n",
    "number_student_0_training_epochs = 500\n",
    "number_monitored_training_epochs = 5\n",
    "\n",
    "number_burn_in_epochs = 0\n",
    "number_magnetization_samples = 500\n",
    "\n",
    "random_number_seed = 2\n",
    "\n",
    "random_batch_seed = 87"
   ]
  },
  {
   "cell_type": "markdown",
   "metadata": {},
   "source": [
    "Monte Carlo simulation for finding the lead of student B over student A"
   ]
  },
  {
   "cell_type": "code",
   "execution_count": null,
   "metadata": {},
   "outputs": [],
   "source": [
    "Lottery_ticket_run.simulation_run_winning_ticket_lead(beta, alpha_range, c, N, P, P_t, number_teacher_sampling_steps,\n",
    "                                       number_monitored_sampling_steps, number_student_sampling_steps,\n",
    "                                       initial_learning_rate, learning_rate_decay, momentum,\n",
    "                                       number_student_0_training_epochs, number_student_training_epochs,\n",
    "                                       number_monitored_training_epochs, number_burn_in_epochs, number_magnetization_samples,\n",
    "                                       random_number_seed, random_batch_seed)"
   ]
  },
  {
   "cell_type": "markdown",
   "metadata": {},
   "source": [
    "Plotting both the magnetization and the lead of student B over student A"
   ]
  },
  {
   "cell_type": "code",
   "execution_count": null,
   "metadata": {},
   "outputs": [],
   "source": [
    "Lottery_ticket_run.plot_winning_ticket_lead(beta, alpha_range, P_sim, P_saddle, number_student_training_epochs, c)"
   ]
  },
  {
   "cell_type": "markdown",
   "metadata": {},
   "source": [
    "### Figures 7, 12, 17 and 18: Magnetization phase diagrams for binary and Gaussian patterns with a uniform or a random correlation matrix, $\\beta = \\beta^*$ and $\\tilde{P} = P$"
   ]
  },
  {
   "cell_type": "markdown",
   "metadata": {},
   "source": [
    "User defined parameters"
   ]
  },
  {
   "cell_type": "code",
   "execution_count": null,
   "metadata": {},
   "outputs": [],
   "source": [
    "n_beta = 20\n",
    "n_alpha = 20\n",
    "T_range = np.linspace(1.025, 1.5, num = n_beta, endpoint = True)\n",
    "alpha_range = np.linspace(0.67, 2, num = n_alpha, endpoint = True)\n",
    "\n",
    "c_range = np.array([0.1, 0.4, 0.7])\n",
    "P_range = np.array([2, 3])\n",
    "\n",
    "# Number of iterations and time step.\n",
    "t = 100\n",
    "t_step = 1/2\n",
    "\n",
    "seed = 4"
   ]
  },
  {
   "cell_type": "markdown",
   "metadata": {},
   "source": [
    "Run saddle-point equations for $\\beta = \\beta^*$ and $\\tilde{P} = P$ to resolve the magnetization"
   ]
  },
  {
   "cell_type": "code",
   "execution_count": null,
   "metadata": {},
   "outputs": [],
   "source": [
    "for c in c_range:\n",
    "    for P in P_range:\n",
    "        Phase_diagrams.phase_diagram(T_range, alpha_range, c, P, t, t_step, seed)"
   ]
  },
  {
   "cell_type": "markdown",
   "metadata": {},
   "source": [
    "Plotting"
   ]
  },
  {
   "cell_type": "code",
   "execution_count": null,
   "metadata": {},
   "outputs": [],
   "source": [
    "for name in [\"binary\", \"binary_random\", \"normal\", \"normal_random\"]:\n",
    "    Phase_diagrams.plot_phase_diagram(T_range, alpha_range, c_range, P_range, name)"
   ]
  },
  {
   "cell_type": "markdown",
   "metadata": {},
   "source": [
    "### Figures 8 and 9: Magnetization and overlap phase diagrams for binary patterns with a uniform correlation matrix, fixed $\\beta^*$ and $\\tilde{P} = P$"
   ]
  },
  {
   "cell_type": "markdown",
   "metadata": {},
   "source": [
    "User defined parameters"
   ]
  },
  {
   "cell_type": "code",
   "execution_count": null,
   "metadata": {},
   "outputs": [],
   "source": [
    "beta_s = 1/1.25\n",
    "\n",
    "n_beta = 20\n",
    "n_alpha = 20\n",
    "T_range = np.linspace(0.53, 1.1, num = n_beta, endpoint = True)\n",
    "alpha_range = np.linspace(0.045, 0.9, num = n_alpha, endpoint = True)\n",
    "\n",
    "c_range = np.array([0.1, 0.4, 0.7])\n",
    "P_range = np.array([2, 3])\n",
    "\n",
    "# Number of iterations and time step.\n",
    "t = 100\n",
    "t_step = 1/2\n",
    "\n",
    "seed = 4"
   ]
  },
  {
   "cell_type": "markdown",
   "metadata": {},
   "source": [
    "Run saddle-point equations for $\\beta = \\beta^*$ and $\\tilde{P} = P$ to resolve the magnetization"
   ]
  },
  {
   "cell_type": "code",
   "execution_count": null,
   "metadata": {},
   "outputs": [],
   "source": [
    "for c in c_range:\n",
    "    for P in P_range:\n",
    "        Phase_diagrams_fixed_T_s.phase_diagram_fixed_T_s(beta_s, T_range, alpha_range, c, P, t, t_step, seed)"
   ]
  },
  {
   "cell_type": "markdown",
   "metadata": {},
   "source": [
    "Plotting"
   ]
  },
  {
   "cell_type": "code",
   "execution_count": null,
   "metadata": {},
   "outputs": [],
   "source": [
    "name = \"binary\"\n",
    "T_s = 1/beta_s\n",
    "for plot_m in [True, False]:\n",
    "    Phase_diagrams_fixed_T_s.plot_phase_diagram_fixed_T_s(T_s, T_range, alpha_range, c_range, P_range, name, plot_m)"
   ]
  },
  {
   "cell_type": "markdown",
   "metadata": {},
   "source": [
    "### Figure 10: Block PS magnetization of the teacher-student patterns with binary patterns when $c \\neq 0$ and $\\tilde{P} \\neq P$ compared against simulations."
   ]
  },
  {
   "cell_type": "markdown",
   "metadata": {},
   "source": [
    "User defined parameters of the saddle-point iteration"
   ]
  },
  {
   "cell_type": "code",
   "execution_count": null,
   "metadata": {},
   "outputs": [],
   "source": [
    "beta = 1.\n",
    "\n",
    "n_alpha = 20\n",
    "alpha_range = np.linspace(0.1, 1, num = n_alpha, endpoint = True)\n",
    "\n",
    "c = 0.4\n",
    "\n",
    "m_0 = 0.2\n",
    "epsilon = m_0*c\n",
    "\n",
    "# Number of iterations and time step.\n",
    "t = 10000\n",
    "t_step = 0.1\n",
    "\n",
    "seed = 4"
   ]
  },
  {
   "cell_type": "markdown",
   "metadata": {},
   "source": [
    "Run saddle-point equations of the teacher student-setting with binary patterns for $c \\neq 0$ and $\\tilde{P} \\neq P$ to resolve the magnetization"
   ]
  },
  {
   "cell_type": "code",
   "execution_count": null,
   "metadata": {},
   "outputs": [],
   "source": [
    "Saddle_point_iteration_c_not_0.block_PS_saddle_point_run(beta, alpha_range, c, P, m_0, epsilon, t, t_step, seed)"
   ]
  },
  {
   "cell_type": "markdown",
   "metadata": {},
   "source": [
    "User defined parameters of the simulation and plotting"
   ]
  },
  {
   "cell_type": "code",
   "execution_count": null,
   "metadata": {},
   "outputs": [],
   "source": [
    "beta = 1.\n",
    "\n",
    "n_alpha = 20\n",
    "alpha_range = np.linspace(0.1, 1, num = n_alpha, endpoint = True)\n",
    "\n",
    "c = 0.3\n",
    "\n",
    "N = 512\n",
    "P = 2\n",
    "P_t = P + 1\n",
    "m_0 = 0.\n",
    "\n",
    "# It is very fast to sample from the teacher\n",
    "number_teacher_sampling_steps = 100\n",
    "number_monitored_sampling_steps = 10\n",
    "\n",
    "number_student_training_epochs = 36*12000\n",
    "number_monitored_training_epochs = 20\n",
    "number_burn_in_epochs = 108000\n",
    "number_magnetization_samples = 1000\n",
    "\n",
    "random_number_seed = 37\n",
    "\n",
    "random_batch_seed = 87"
   ]
  },
  {
   "cell_type": "markdown",
   "metadata": {},
   "source": [
    "Monte Carlo simulation of the magnetization for $c \\neq 0$ and $\\tilde{P} \\neq P$"
   ]
  },
  {
   "cell_type": "code",
   "execution_count": null,
   "metadata": {},
   "outputs": [],
   "source": [
    "Simulations_c_not_0_mismatched_P.simulation_run_mismatched_P(beta, alpha_range, c, N, P, P_t, m_0, number_teacher_sampling_steps,\n",
    "                    number_monitored_sampling_steps, number_student_training_epochs,\n",
    "                    number_monitored_training_epochs, number_burn_in_epochs,\n",
    "                    number_magnetization_samples, random_number_seed, random_batch_seed)"
   ]
  },
  {
   "cell_type": "markdown",
   "metadata": {},
   "source": [
    "Plotting"
   ]
  },
  {
   "cell_type": "code",
   "execution_count": null,
   "metadata": {},
   "outputs": [],
   "source": [
    "Simulations_c_not_0_mismatched_P.plot_simulated_block_PS_overlap(beta, alpha_range, P, P_t, c_range)"
   ]
  },
  {
   "cell_type": "markdown",
   "metadata": {},
   "source": [
    "### Figure 11: PSB magnetization of the teacher-student patterns with binary patterns when $c \\neq 0$ and $\\tilde{P} \\neq P$ compared against simulations."
   ]
  },
  {
   "cell_type": "markdown",
   "metadata": {},
   "source": [
    "### Figure 11: Lottery ticket experiment with $c \\neq 0$"
   ]
  },
  {
   "cell_type": "markdown",
   "metadata": {},
   "source": [
    "User defined parameters of the saddle-point iteration"
   ]
  },
  {
   "cell_type": "code",
   "execution_count": null,
   "metadata": {},
   "outputs": [],
   "source": [
    "beta = 2.8\n",
    "\n",
    "n_alpha = 20\n",
    "alpha_range = np.linspace(0.1, 1, num = n_alpha, endpoint = True)\n",
    "\n",
    "c = 0.05\n",
    "\n",
    "P = 4\n",
    "\n",
    "m_0 = 0.2\n",
    "epsilon = m_0*c\n",
    "\n",
    "t = 10000\n",
    "t_step = 0.1\n",
    "\n",
    "seed = 4"
   ]
  },
  {
   "cell_type": "markdown",
   "metadata": {},
   "source": [
    "Run saddle-point equations of the teacher student-setting with Gaussian patterns for $c = 0$ to resolve the magnetization"
   ]
  },
  {
   "cell_type": "code",
   "execution_count": null,
   "metadata": {},
   "outputs": [],
   "source": [
    "Saddle_point_iteration_c_not_0.saddle_point_run(beta, alpha_range, c, P, P_t, m_0, epsilon, t, t_step, seed)"
   ]
  },
  {
   "cell_type": "markdown",
   "metadata": {},
   "source": [
    "User defined parameters common to the two next simulations"
   ]
  },
  {
   "cell_type": "code",
   "execution_count": null,
   "metadata": {},
   "outputs": [],
   "source": [
    "beta = 2.8\n",
    "\n",
    "n_alpha = 20\n",
    "alpha_range = np.linspace(0.1, 1, num = n_alpha, endpoint = True)\n",
    "\n",
    "N = 512\n",
    "\n",
    "P_sim = 4\n",
    "P = P_sim\n",
    "P_t = 8\n",
    "P_saddle = P\n",
    "\n",
    "c = 0.05"
   ]
  },
  {
   "cell_type": "markdown",
   "metadata": {},
   "source": [
    "User defined parameters of the simulation for finding the magnetization"
   ]
  },
  {
   "cell_type": "code",
   "execution_count": null,
   "metadata": {},
   "outputs": [],
   "source": [
    "# It is very fast to sample from the teacher\n",
    "number_teacher_sampling_steps = 100\n",
    "number_monitored_sampling_steps = 0\n",
    "\n",
    "# Student 0 is trained for a different number of epochs than student A and student B.\n",
    "# The other parameters are shared between 0, A and B.\n",
    "number_student_sampling_steps = 1\n",
    "initial_learning_rate = 0.01\n",
    "learning_rate_decay = 0.00005\n",
    "momentum = 0.8\n",
    "number_student_training_epochs = 8*8000\n",
    "number_student_0_training_epochs = 2000\n",
    "number_monitored_training_epochs = 5\n",
    "\n",
    "number_burn_in_epochs = 8*8000-500\n",
    "number_magnetization_samples = 100\n",
    "\n",
    "random_number_seed = 2\n",
    "\n",
    "random_batch_seed = 87"
   ]
  },
  {
   "cell_type": "markdown",
   "metadata": {},
   "source": [
    "Monte Carlo simulation for finding the magnetization"
   ]
  },
  {
   "cell_type": "code",
   "execution_count": null,
   "metadata": {},
   "outputs": [],
   "source": [
    "Lottery_ticket_run.simulation_run_winning_ticket_magnetization(beta, alpha_range, c, N, P, P_t, number_teacher_sampling_steps,\n",
    "                                       number_monitored_sampling_steps, number_student_sampling_steps,\n",
    "                                       initial_learning_rate, learning_rate_decay, momentum,\n",
    "                                       number_student_0_training_epochs, number_student_training_epochs,\n",
    "                                       number_monitored_training_epochs, number_burn_in_epochs, number_magnetization_samples,\n",
    "                                       random_number_seed, random_batch_seed)"
   ]
  },
  {
   "cell_type": "markdown",
   "metadata": {},
   "source": [
    "User defined parameters of the simulation for finding the lead of student B over student A"
   ]
  },
  {
   "cell_type": "code",
   "execution_count": null,
   "metadata": {},
   "outputs": [],
   "source": [
    "# It is very fast to sample from the teacher\n",
    "number_teacher_sampling_steps = 100\n",
    "number_monitored_sampling_steps = 0\n",
    "\n",
    "# Student 0 can be trained for a different number of epochs than student A and student B.\n",
    "# The other parameters are shared between 0, A and B.\n",
    "number_student_sampling_steps = 1\n",
    "initial_learning_rate = 0.01\n",
    "learning_rate_decay = 0.00005\n",
    "momentum = 0.8\n",
    "number_student_training_epochs = 2000\n",
    "number_student_0_training_epochs = 2000\n",
    "number_monitored_training_epochs = 5\n",
    "\n",
    "number_burn_in_epochs = 0\n",
    "number_magnetization_samples = 500\n",
    "\n",
    "random_number_seed = 2\n",
    "\n",
    "random_batch_seed = 87"
   ]
  },
  {
   "cell_type": "markdown",
   "metadata": {},
   "source": [
    "Monte Carlo simulation for finding the lead of student B over student A"
   ]
  },
  {
   "cell_type": "code",
   "execution_count": null,
   "metadata": {},
   "outputs": [],
   "source": [
    "Lottery_ticket_run.simulation_run_winning_ticket_lead(beta, alpha_range, c, N, P, P_t, number_teacher_sampling_steps,\n",
    "                                       number_monitored_sampling_steps, number_student_sampling_steps,\n",
    "                                       initial_learning_rate, learning_rate_decay, momentum,\n",
    "                                       number_student_0_training_epochs, number_student_training_epochs,\n",
    "                                       number_monitored_training_epochs, number_burn_in_epochs, number_magnetization_samples,\n",
    "                                       random_number_seed, random_batch_seed)"
   ]
  },
  {
   "cell_type": "markdown",
   "metadata": {},
   "source": [
    "Plotting both the magnetization and the lead of student B over student A"
   ]
  },
  {
   "cell_type": "code",
   "execution_count": null,
   "metadata": {},
   "outputs": [],
   "source": [
    "Lottery_ticket_run.plot_winning_ticket_lead(beta, alpha_range, P_sim, P_saddle, number_student_training_epochs, c)"
   ]
  },
  {
   "cell_type": "markdown",
   "metadata": {},
   "source": [
    "### Figure 13: Critical load of the teacher-student setting when $\\beta = \\beta^*$ and $\\tilde{P} = P$"
   ]
  },
  {
   "cell_type": "markdown",
   "metadata": {},
   "source": []
  }
 ],
 "metadata": {
  "language_info": {
   "name": "python"
  }
 },
 "nbformat": 4,
 "nbformat_minor": 2
}
